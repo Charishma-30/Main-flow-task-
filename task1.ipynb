{
 "cells": [
  {
   "cell_type": "code",
   "execution_count": 9,
   "id": "abd3cbed-542c-408f-89ea-94873bc6ba0d",
   "metadata": {},
   "outputs": [
    {
     "name": "stdout",
     "output_type": "stream",
     "text": [
      "updated list: [111, 33, 44, 0, 67]\n"
     ]
    }
   ],
   "source": [
    "#creating a list\n",
    "list=[11,22,33,44,55]\n",
    "#adding an element into the list\n",
    "list.append(66)\n",
    "list.append(67)\n",
    "#removing element fromte list\n",
    "list.remove(22)\n",
    "list.remove(55)\n",
    "#modifying an element in the list\n",
    "list[0]=111\n",
    "list[3]=0\n",
    "print(\"updated list:\",list)"
   ]
  },
  {
   "cell_type": "code",
   "execution_count": 10,
   "id": "dd72b1aa-302c-4a32-97af-38c966e3a6bb",
   "metadata": {},
   "outputs": [
    {
     "name": "stdout",
     "output_type": "stream",
     "text": [
      "updated dictinory: {'name': 'cherry', 'city': 'cittoor', 'gender': 'female', 'DOB': '12/2/2003'}\n"
     ]
    }
   ],
   "source": [
    "#creating a dictionary\n",
    "dictinory={'name':'cherry','age':'20','city':'tirupati','branch':'csm'}\n",
    "#adding an element into the dictinory\n",
    "dictinory['gender']='female'\n",
    "dictinory['DOB']='12/2/2003'\n",
    "#removing element fromte dictinory\n",
    "del dictinory['age']\n",
    "del dictinory['branch']\n",
    "#modifying an element in the dictinory\n",
    "dictinory['city']='cittoor'\n",
    "print(\"updated dictinory:\",dictinory)"
   ]
  },
  {
   "cell_type": "code",
   "execution_count": 11,
   "id": "b180801b-18c7-400a-b2d7-cb8dfcec3e3f",
   "metadata": {},
   "outputs": [
    {
     "name": "stdout",
     "output_type": "stream",
     "text": [
      "updated set: {1, 2, 3, 4, 5, 77, 33}\n"
     ]
    }
   ],
   "source": [
    "#creating a set\n",
    "set={7,9,4,0,5,2,1}\n",
    "#adding an element into the set\n",
    "set.add(3)\n",
    "set.add(33)\n",
    "set.add(77)\n",
    "#removing element from the set\n",
    "set.remove(0)\n",
    "set.remove(7)\n",
    "#modifying an element in the set\n",
    "set.discard(9)\n",
    "set.add(77)\n",
    "print(\"updated set:\",set)"
   ]
  },
  {
   "cell_type": "code",
   "execution_count": null,
   "id": "9f3a9a96-1764-41f7-9767-895ee36c419f",
   "metadata": {},
   "outputs": [],
   "source": []
  }
 ],
 "metadata": {
  "kernelspec": {
   "display_name": "Python 3 (ipykernel)",
   "language": "python",
   "name": "python3"
  },
  "language_info": {
   "codemirror_mode": {
    "name": "ipython",
    "version": 3
   },
   "file_extension": ".py",
   "mimetype": "text/x-python",
   "name": "python",
   "nbconvert_exporter": "python",
   "pygments_lexer": "ipython3",
   "version": "3.12.4"
  }
 },
 "nbformat": 4,
 "nbformat_minor": 5
}
